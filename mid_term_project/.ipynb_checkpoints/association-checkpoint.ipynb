{
 "cells": [
  {
   "cell_type": "code",
   "execution_count": 18,
   "id": "1c302d9e",
   "metadata": {},
   "outputs": [],
   "source": [
    "import os\n",
    "import pandas as pd\n",
    "import numpy as np\n",
    "import random"
   ]
  },
  {
   "cell_type": "markdown",
   "id": "6de8622a",
   "metadata": {},
   "source": [
    "First step is to create the list of items available on our store (inventory). We will be creating a dictionary and then convert it to a Pandas Dataframe and save it to a file."
   ]
  },
  {
   "cell_type": "code",
   "execution_count": 13,
   "id": "f5e9c755",
   "metadata": {},
   "outputs": [],
   "source": [
    "inventory = [\n",
    "    {\"item_id\": 1, \"item_description\": \"Classic Coke\"},\n",
    "    {\"item_id\": 2, \"item_description\": \"Sprite\"},\n",
    "    {\"item_id\": 3, \"item_description\": \"Fanta\"},\n",
    "    {\"item_id\": 4, \"item_description\": \"Apple Juice\"},\n",
    "    {\"item_id\": 5, \"item_description\": \"Orange Juice\"},\n",
    "    {\"item_id\": 6, \"item_description\": \"Pear\"},\n",
    "    {\"item_id\": 7, \"item_description\": \"Apple\"},\n",
    "    {\"item_id\": 8, \"item_description\": \"Grape\"},\n",
    "    {\"item_id\": 9, \"item_description\": \"Lemon\"},\n",
    "    {\"item_id\": 10, \"item_description\": \"Banana\"},\n",
    "    {\"item_id\": 11, \"item_description\": \"Hot Pocket\"},\n",
    "    {\"item_id\": 12, \"item_description\": \"Hungry Man\"},\n",
    "    {\"item_id\": 13, \"item_description\": \"Meatlovers Pizza\"},\n",
    "    {\"item_id\": 14, \"item_description\": \"Sliced Ham\"},\n",
    "    {\"item_id\": 15, \"item_description\": \"Hard Salami\"},\n",
    "    {\"item_id\": 16, \"item_description\": \"Provolone Cheese\"},\n",
    "    {\"item_id\": 17, \"item_description\": \"Muenster Cheese\"},\n",
    "    {\"item_id\": 18, \"item_description\": \"Bread\"},\n",
    "    {\"item_id\": 19, \"item_description\": \"Milk\"},\n",
    "    {\"item_id\": 20, \"item_description\": \"Coffee\"},    \n",
    "    {\"item_id\": 21, \"item_description\": \"Rice\"},\n",
    "    {\"item_id\": 22, \"item_description\": \"Popcorn\"},\n",
    "    {\"item_id\": 23, \"item_description\": \"Italian Sub\"},\n",
    "    {\"item_id\": 24, \"item_description\": \"Butter\"},\n",
    "    {\"item_id\": 25, \"item_description\": \"Eggs\"},\n",
    "    {\"item_id\": 26, \"item_description\": \"Batteries\"},\n",
    "    {\"item_id\": 27, \"item_description\": \"Shampoo\"},\n",
    "    {\"item_id\": 28, \"item_description\": \"Toothpaste\"},\n",
    "    {\"item_id\": 29, \"item_description\": \"Tylenol\"},\n",
    "    {\"item_id\": 30, \"item_description\": \"Yogurt\"},\n",
    "]\n",
    "    \n",
    "inventory = pd.DataFrame(inventory)\n",
    "inventory.to_csv(\"inventory.tsv\", sep = \"\\t\", index=False)"
   ]
  },
  {
   "cell_type": "markdown",
   "id": "1c9f5f78",
   "metadata": {},
   "source": [
    "Now we create the database with the transactions. We are limiting the number of items at 6 and we are going to pick them randomly."
   ]
  },
  {
   "cell_type": "code",
   "execution_count": 40,
   "id": "a120f7ac",
   "metadata": {},
   "outputs": [
    {
     "name": "stdout",
     "output_type": "stream",
     "text": [
      "1 ['Sprite', 'Apple Juice', 'Banana', 'Milk', 'Butter']\n",
      "2 ['Grape', 'Muenster Cheese', 'Bread', 'Milk', 'Eggs', 'Shampoo', 'Toothpaste']\n",
      "3 ['Apple', 'Grape', 'Hungry Man', 'Bread', 'Eggs', 'Tylenol']\n",
      "4 ['Apple', 'Provolone Cheese', 'Muenster Cheese', 'Milk', 'Rice']\n",
      "5 ['Hungry Man', 'Meatlovers Pizza', 'Provolone Cheese', 'Popcorn', 'Shampoo']\n",
      "6 ['Classic Coke', 'Sprite', 'Apple Juice', 'Orange Juice', 'Pear', 'Apple', 'Lemon', 'Butter', 'Eggs', 'Tylenol']\n",
      "7 ['Fanta', 'Banana', 'Hungry Man', 'Coffee', 'Rice', 'Butter', 'Batteries', 'Shampoo', 'Toothpaste']\n",
      "8 ['Apple Juice', 'Sliced Ham', 'Italian Sub', 'Eggs', 'Batteries']\n",
      "9 ['Fanta', 'Hard Salami', 'Milk', 'Butter']\n",
      "10 ['Apple', 'Banana', 'Hard Salami', 'Muenster Cheese', 'Coffee', 'Rice', 'Popcorn', 'Batteries', 'Toothpaste', 'Yogurt']\n",
      "11 ['Classic Coke', 'Grape', 'Hot Pocket', 'Sliced Ham', 'Hard Salami', 'Muenster Cheese', 'Rice', 'Tylenol']\n",
      "12 ['Apple Juice', 'Orange Juice', 'Pear', 'Hungry Man', 'Meatlovers Pizza', 'Sliced Ham', 'Provolone Cheese', 'Bread', 'Coffee', 'Toothpaste']\n",
      "13 ['Classic Coke', 'Sprite', 'Orange Juice', 'Italian Sub', 'Yogurt']\n",
      "14 ['Apple Juice', 'Orange Juice', 'Pear', 'Grape', 'Provolone Cheese', 'Rice']\n",
      "15 ['Lemon', 'Hard Salami', 'Bread', 'Rice', 'Batteries']\n",
      "16 ['Classic Coke', 'Apple Juice', 'Lemon', 'Sliced Ham', 'Hard Salami', 'Butter', 'Eggs', 'Shampoo', 'Toothpaste']\n",
      "17 ['Sprite', 'Apple', 'Hot Pocket', 'Meatlovers Pizza', 'Provolone Cheese', 'Milk', 'Coffee', 'Popcorn', 'Eggs', 'Batteries']\n",
      "18 ['Sprite', 'Apple', 'Lemon', 'Banana', 'Hungry Man', 'Coffee', 'Eggs', 'Toothpaste']\n",
      "19 ['Sprite', 'Apple', 'Banana', 'Hungry Man', 'Sliced Ham', 'Yogurt']\n",
      "20 ['Classic Coke', 'Apple', 'Hungry Man', 'Shampoo']\n"
     ]
    }
   ],
   "source": [
    "transactions = 20\n",
    "max_items_per_transaction = 10\n",
    "min_items_per_transaction = 4\n",
    "for transaction in range(transactions):\n",
    "    basket_items = random.sample(list(inventory[\"item_id\"]), \n",
    "                                 random.randint(min_items_per_transaction, max_items_per_transaction))\n",
    "    basket_items = inventory[inventory[\"item_id\"].isin(basket_items)][\"item_description\"].tolist()\n",
    "    print(transaction + 1, basket_items)"
   ]
  },
  {
   "cell_type": "code",
   "execution_count": 35,
   "id": "cc35147e",
   "metadata": {},
   "outputs": [
    {
     "data": {
      "text/html": [
       "<div>\n",
       "<style scoped>\n",
       "    .dataframe tbody tr th:only-of-type {\n",
       "        vertical-align: middle;\n",
       "    }\n",
       "\n",
       "    .dataframe tbody tr th {\n",
       "        vertical-align: top;\n",
       "    }\n",
       "\n",
       "    .dataframe thead th {\n",
       "        text-align: right;\n",
       "    }\n",
       "</style>\n",
       "<table border=\"1\" class=\"dataframe\">\n",
       "  <thead>\n",
       "    <tr style=\"text-align: right;\">\n",
       "      <th></th>\n",
       "      <th>item_id</th>\n",
       "      <th>item_description</th>\n",
       "    </tr>\n",
       "  </thead>\n",
       "  <tbody>\n",
       "    <tr>\n",
       "      <th>0</th>\n",
       "      <td>1</td>\n",
       "      <td>Classic Coke</td>\n",
       "    </tr>\n",
       "    <tr>\n",
       "      <th>12</th>\n",
       "      <td>13</td>\n",
       "      <td>Meatlovers Pizza</td>\n",
       "    </tr>\n",
       "    <tr>\n",
       "      <th>15</th>\n",
       "      <td>16</td>\n",
       "      <td>Provolone Cheese</td>\n",
       "    </tr>\n",
       "    <tr>\n",
       "      <th>20</th>\n",
       "      <td>21</td>\n",
       "      <td>Rice</td>\n",
       "    </tr>\n",
       "  </tbody>\n",
       "</table>\n",
       "</div>"
      ],
      "text/plain": [
       "    item_id  item_description\n",
       "0         1      Classic Coke\n",
       "12       13  Meatlovers Pizza\n",
       "15       16  Provolone Cheese\n",
       "20       21              Rice"
      ]
     },
     "execution_count": 35,
     "metadata": {},
     "output_type": "execute_result"
    }
   ],
   "source": [
    "inventory[inventory[\"item_id\"].isin(basket_items)]"
   ]
  },
  {
   "cell_type": "code",
   "execution_count": 30,
   "id": "d7de71c3",
   "metadata": {},
   "outputs": [
    {
     "data": {
      "text/plain": [
       "1"
      ]
     },
     "execution_count": 30,
     "metadata": {},
     "output_type": "execute_result"
    }
   ],
   "source": []
  },
  {
   "cell_type": "code",
   "execution_count": null,
   "id": "2f792a5b",
   "metadata": {},
   "outputs": [],
   "source": []
  }
 ],
 "metadata": {
  "kernelspec": {
   "display_name": "Python 3",
   "language": "python",
   "name": "python3"
  },
  "language_info": {
   "codemirror_mode": {
    "name": "ipython",
    "version": 3
   },
   "file_extension": ".py",
   "mimetype": "text/x-python",
   "name": "python",
   "nbconvert_exporter": "python",
   "pygments_lexer": "ipython3",
   "version": "3.8.8"
  }
 },
 "nbformat": 4,
 "nbformat_minor": 5
}
