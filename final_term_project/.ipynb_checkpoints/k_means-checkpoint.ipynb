{
 "cells": [
  {
   "cell_type": "code",
   "execution_count": 1,
   "metadata": {},
   "outputs": [],
   "source": [
    "## K-means clustering implementation. \n",
    "## Check https://www.youtube.com/watch?v=_S5tvagaQRU for more details\n",
    "import random"
   ]
  },
  {
   "cell_type": "code",
   "execution_count": 2,
   "metadata": {},
   "outputs": [],
   "source": [
    "# Define the number of clusters\n",
    "k = 3"
   ]
  },
  {
   "cell_type": "code",
   "execution_count": 3,
   "metadata": {},
   "outputs": [
    {
     "data": {
      "text/plain": [
       "[(2, 10), (2, 5), (8, 4), (5, 8), (7, 5), (6, 4), (1, 2), (4, 9)]"
      ]
     },
     "execution_count": 3,
     "metadata": {},
     "output_type": "execute_result"
    }
   ],
   "source": [
    "# List pairs to cluster. Each pair consists of two coordinates (x, y)\n",
    "coordinates = [\n",
    "    (2, 10),\n",
    "    (2, 5),\n",
    "    (8, 4),\n",
    "    (5, 8),\n",
    "    (7, 5),\n",
    "    (6, 4),\n",
    "    (1, 2),\n",
    "    (4, 9)\n",
    "]\n",
    "coordinates"
   ]
  },
  {
   "cell_type": "code",
   "execution_count": 4,
   "metadata": {},
   "outputs": [
    {
     "data": {
      "text/plain": [
       "[(5, 8), (1, 2), (4, 9)]"
      ]
     },
     "execution_count": 4,
     "metadata": {},
     "output_type": "execute_result"
    }
   ],
   "source": [
    "# Randomly select the initial centroids\n",
    "centroids = random.sample(coordinates, k)\n",
    "centroids"
   ]
  },
  {
   "cell_type": "code",
   "execution_count": 5,
   "metadata": {},
   "outputs": [],
   "source": [
    "# Calculates the distance of pair to centroids and returns the closest centroid to that pair\n",
    "def assign_to_cluster(pair, centroids): \n",
    "    distance_final = 9999999999\n",
    "    cluster = 9999\n",
    "    for each_centroid in centroids:\n",
    "        distance = abs(each_centroid[0] - pair[0]) + abs(each_centroid[1] - pair[1])\n",
    "        if distance < distance_final:\n",
    "            cluster = centroids.index(each_centroid)\n",
    "            distance_final = distance\n",
    "        #print(each_centroid, pair, distance, cluster, distance_final)\n",
    "    \n",
    "    return pair[0], pair[1], cluster"
   ]
  },
  {
   "cell_type": "code",
   "execution_count": 6,
   "metadata": {},
   "outputs": [],
   "source": [
    "# Cluster the list of pair to closest centroid\n",
    "def generate_clusters(coordinates, centroids):\n",
    "    li = []\n",
    "    for each_coordinate in coordinates:\n",
    "        li.append(assign_to_cluster(each_coordinate, centroids))\n",
    "\n",
    "    coordinates = li\n",
    "\n",
    "    li = []\n",
    "    for each_centroid in centroids:\n",
    "        index = centroids.index(each_centroid)\n",
    "        count = 0\n",
    "        sum_x = 0\n",
    "        sum_y = 0\n",
    "        for each_coordinate in coordinates:\n",
    "            if each_coordinate[2] == index:\n",
    "                count = count + 1\n",
    "                sum_x = sum_x + each_coordinate[0]\n",
    "                sum_y = sum_y + each_coordinate[1]\n",
    "                #print(each_centroid, each_coordinate)\n",
    "        li.append((sum_x / count, sum_y / count))\n",
    "    centroids = li\n",
    "        \n",
    "    return coordinates, centroids"
   ]
  },
  {
   "cell_type": "code",
   "execution_count": 7,
   "metadata": {},
   "outputs": [
    {
     "name": "stdout",
     "output_type": "stream",
     "text": [
      "[(6.5, 5.25), (1.5, 3.5), (3.0, 9.5)]\n",
      "[(7.0, 4.333333333333333), (1.5, 3.5), (3.6666666666666665, 9.0)]\n",
      "[(7.0, 4.333333333333333), (1.5, 3.5), (3.6666666666666665, 9.0)]\n"
     ]
    }
   ],
   "source": [
    "# Iterates clustering until the best \"accomodation\" is found\n",
    "current_centroids = []\n",
    "while current_centroids != centroids:\n",
    "    current_centroids = centroids\n",
    "    coordinates, centroids = generate_clusters(coordinates, centroids)\n",
    "    print(centroids)"
   ]
  },
  {
   "cell_type": "code",
   "execution_count": 8,
   "metadata": {},
   "outputs": [
    {
     "data": {
      "text/plain": [
       "[(2, 10, 2),\n",
       " (2, 5, 1),\n",
       " (8, 4, 0),\n",
       " (5, 8, 2),\n",
       " (7, 5, 0),\n",
       " (6, 4, 0),\n",
       " (1, 2, 1),\n",
       " (4, 9, 2)]"
      ]
     },
     "execution_count": 8,
     "metadata": {},
     "output_type": "execute_result"
    }
   ],
   "source": [
    "coordinates"
   ]
  },
  {
   "cell_type": "code",
   "execution_count": 9,
   "metadata": {},
   "outputs": [
    {
     "data": {
      "text/plain": [
       "'\\n[(2, 10, 1),\\n (2, 5, 0),\\n (8, 4, 2),\\n (5, 8, 1),\\n (7, 5, 2),\\n (6, 4, 2),\\n (1, 2, 0),\\n (4, 9, 1)]\\n'"
      ]
     },
     "execution_count": 9,
     "metadata": {},
     "output_type": "execute_result"
    }
   ],
   "source": [
    "\"\"\"\n",
    "[(2, 10, 1),\n",
    " (2, 5, 0),\n",
    " (8, 4, 2),\n",
    " (5, 8, 1),\n",
    " (7, 5, 2),\n",
    " (6, 4, 2),\n",
    " (1, 2, 0),\n",
    " (4, 9, 1)]\n",
    "\"\"\""
   ]
  }
 ],
 "metadata": {
  "kernelspec": {
   "display_name": "Python 3",
   "language": "python",
   "name": "python3"
  },
  "language_info": {
   "codemirror_mode": {
    "name": "ipython",
    "version": 3
   },
   "file_extension": ".py",
   "mimetype": "text/x-python",
   "name": "python",
   "nbconvert_exporter": "python",
   "pygments_lexer": "ipython3",
   "version": "3.8.8"
  }
 },
 "nbformat": 4,
 "nbformat_minor": 4
}
