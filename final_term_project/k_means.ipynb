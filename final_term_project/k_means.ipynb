{
 "cells": [
  {
   "cell_type": "code",
   "execution_count": 1,
   "metadata": {},
   "outputs": [],
   "source": [
    "## K-means clustering implementation. \n",
    "## Check https://www.youtube.com/watch?v=_S5tvagaQRU for more details\n",
    "import random"
   ]
  },
  {
   "cell_type": "code",
   "execution_count": 2,
   "metadata": {},
   "outputs": [],
   "source": [
    "# Define the number of clusters\n",
    "k = 3"
   ]
  },
  {
   "cell_type": "code",
   "execution_count": 3,
   "metadata": {},
   "outputs": [
    {
     "data": {
      "text/plain": [
       "[(2, 10), (2, 5), (8, 4), (5, 8), (7, 5), (6, 4), (1, 2), (4, 9)]"
      ]
     },
     "execution_count": 3,
     "metadata": {},
     "output_type": "execute_result"
    }
   ],
   "source": [
    "# List pairs to cluster. Each pair consists of two coordinates (x, y)\n",
    "coordinates = [\n",
    "    (2, 10),\n",
    "    (2, 5),\n",
    "    (8, 4),\n",
    "    (5, 8),\n",
    "    (7, 5),\n",
    "    (6, 4),\n",
    "    (1, 2),\n",
    "    (4, 9)\n",
    "]\n",
    "coordinates"
   ]
  },
  {
   "cell_type": "code",
   "execution_count": 4,
   "metadata": {},
   "outputs": [
    {
     "data": {
      "text/plain": [
       "[(5, 8), (5, 8), (5, 8)]"
      ]
     },
     "execution_count": 4,
     "metadata": {},
     "output_type": "execute_result"
    }
   ],
   "source": [
    "# Randomly select the initial centroids\n",
    "centroids = random.sample(coordinates, k)\n",
    "centroids = [(5, 8),(5, 8),(5, 8)]\n",
    "centroids"
   ]
  },
  {
   "cell_type": "code",
   "execution_count": 5,
   "metadata": {},
   "outputs": [],
   "source": [
    "# Calculates the distance of pair to centroids and returns the closest centroid to that pair\n",
    "def assign_to_cluster(pair, centroids): \n",
    "    distance_final = 9999999999\n",
    "    cluster = 9999\n",
    "    for each_centroid in centroids:\n",
    "        distance = abs(each_centroid[0] - pair[0]) + abs(each_centroid[1] - pair[1])\n",
    "        if distance < distance_final:\n",
    "            cluster = centroids.index(each_centroid)\n",
    "            distance_final = distance\n",
    "        #print(each_centroid, pair, distance, cluster, distance_final)\n",
    "    \n",
    "    return pair[0], pair[1], cluster"
   ]
  },
  {
   "cell_type": "code",
   "execution_count": 6,
   "metadata": {},
   "outputs": [],
   "source": [
    "# Cluster the list of pair to closest centroid\n",
    "def generate_clusters(coordinates, centroids):\n",
    "    li = []\n",
    "    for each_coordinate in coordinates:\n",
    "        li.append(assign_to_cluster(each_coordinate, centroids))\n",
    "\n",
    "    coordinates = li\n",
    "\n",
    "    li = []\n",
    "    for each_centroid in centroids:\n",
    "        index = centroids.index(each_centroid)\n",
    "        count = 0\n",
    "        sum_x = 0\n",
    "        sum_y = 0\n",
    "        for each_coordinate in coordinates:\n",
    "            if each_coordinate[2] == index:\n",
    "                count = count + 1\n",
    "                sum_x = sum_x + each_coordinate[0]\n",
    "                sum_y = sum_y + each_coordinate[1]\n",
    "                #print(each_centroid, each_coordinate)\n",
    "        li.append((sum_x / count, sum_y / count))\n",
    "    centroids = li\n",
    "        \n",
    "    return coordinates, centroids"
   ]
  },
  {
   "cell_type": "code",
   "execution_count": 7,
   "metadata": {},
   "outputs": [
    {
     "name": "stdout",
     "output_type": "stream",
     "text": [
      "[(4.375, 5.875), (4.375, 5.875), (4.375, 5.875)]\n",
      "[(4.375, 5.875), (4.375, 5.875), (4.375, 5.875)]\n"
     ]
    }
   ],
   "source": [
    "# Iterates clustering until the best \"accomodation\" is found\n",
    "current_centroids = []\n",
    "while current_centroids != centroids:\n",
    "    current_centroids = centroids\n",
    "    coordinates, centroids = generate_clusters(coordinates, centroids)\n",
    "    print(centroids)"
   ]
  },
  {
   "cell_type": "code",
   "execution_count": 8,
   "metadata": {},
   "outputs": [
    {
     "data": {
      "text/plain": [
       "[(2, 10, 0),\n",
       " (2, 5, 0),\n",
       " (8, 4, 0),\n",
       " (5, 8, 0),\n",
       " (7, 5, 0),\n",
       " (6, 4, 0),\n",
       " (1, 2, 0),\n",
       " (4, 9, 0)]"
      ]
     },
     "execution_count": 8,
     "metadata": {},
     "output_type": "execute_result"
    }
   ],
   "source": [
    "coordinates"
   ]
  },
  {
   "cell_type": "code",
   "execution_count": 9,
   "metadata": {},
   "outputs": [
    {
     "data": {
      "text/plain": [
       "'\\n[(2, 10, 1),\\n (2, 5, 0),\\n (8, 4, 2),\\n (5, 8, 1),\\n (7, 5, 2),\\n (6, 4, 2),\\n (1, 2, 0),\\n (4, 9, 1)]\\n'"
      ]
     },
     "execution_count": 9,
     "metadata": {},
     "output_type": "execute_result"
    }
   ],
   "source": [
    "\"\"\"\n",
    "[(2, 10, 1),\n",
    " (2, 5, 0),\n",
    " (8, 4, 2),\n",
    " (5, 8, 1),\n",
    " (7, 5, 2),\n",
    " (6, 4, 2),\n",
    " (1, 2, 0),\n",
    " (4, 9, 1)]\n",
    "\"\"\""
   ]
  },
  {
   "cell_type": "code",
   "execution_count": null,
   "metadata": {},
   "outputs": [],
   "source": [
    "def calculate_silhouette(data_points):\n",
    "    intra = []\n",
    "    for i, each_point in data_points.iterrows():\n",
    "        neighbors = data_points\n",
    "        neighbors = neighbors.drop(i)\n",
    "        neighbors = neighbors[(neighbors[\"cx\"] == each_point[\"cx\"]) & \n",
    "                              (neighbors[\"cy\"] == each_point[\"cy\"]) & \n",
    "                              (neighbors[\"cz\"] == each_point[\"cz\"])]\n",
    "        intra_cluster = find_cluster_distance([each_point.values.tolist()], neighbors.values.tolist(), type = \"avg\")\n",
    "\n",
    "        other_clusters = data_points\n",
    "        other_clusters = other_clusters[~((other_clusters[\"cx\"] == each_point[\"cx\"]) & \n",
    "                                          (other_clusters[\"cy\"] == each_point[\"cy\"]) & \n",
    "                                          (other_clusters[\"cz\"] == each_point[\"cz\"]))]    \n",
    "        other_clusters = (other_clusters[[\"cx\", \"cy\", \"cz\"]]).drop_duplicates()\n",
    "        inter = []\n",
    "        for j, each_non_neighbors in other_clusters.iterrows():\n",
    "            non_neighbors = data_points\n",
    "            non_neighbors = non_neighbors[(non_neighbors[\"cx\"] == each_non_neighbors[\"cx\"]) & \n",
    "                                          (non_neighbors[\"cy\"] == each_non_neighbors[\"cy\"]) & \n",
    "                                          (non_neighbors[\"cz\"] == each_non_neighbors[\"cz\"])]\n",
    "            non_neighbors = non_neighbors[[\"x\", \"y\", \"z\"]]\n",
    "            inter_cluster = find_cluster_distance([each_point.values.tolist()], non_neighbors.values.tolist(), type = \"avg\")\n",
    "            inter.append(inter_cluster)   \n",
    "\n",
    "        b1 = min(inter)\n",
    "        s1 = (b1 - intra_cluster) / max(intra_cluster, b1)\n",
    "        intra.append({\n",
    "                \"index\": i,\n",
    "                \"silhouette_coeficient\": s1\n",
    "            }\n",
    "        )\n",
    "    #     print(\"P\", i, \": \", each_point[\"x\"], each_point[\"y\"], intra_cluster, min(inter), b1, s1)\n",
    "    return pd.concat([data_points, pd.DataFrame(intra).set_index(\"index\")], axis=1)\n",
    "\n",
    "calculate_silhouette(all_clusters)"
   ]
  },
  {
   "cell_type": "code",
   "execution_count": null,
   "metadata": {},
   "outputs": [],
   "source": [
    "test_without_outliers = remove_outliers(test, d_distance = 50, p_fraction = 0.15)\n",
    "\n",
    "def k_means(data_points, k=10):\n",
    "    current_centroids = np.zeros((k, 3)).tolist()\n",
    "    centroids = np.random.randint(0, 100, size=(k, 3)).tolist()\n",
    "    counter = 1\n",
    "\n",
    "    while current_centroids != centroids:\n",
    "        current_centroids = centroids\n",
    "        # Assign data points to centroids\n",
    "        data_points[\"nearest\"] = data_points.apply(\n",
    "            lambda row: find_closest_cluster(\n",
    "                [[row.x, row.y, row.z]], \n",
    "                centroids, \n",
    "                type = \"min\"), \n",
    "            axis = 1)\n",
    "\n",
    "        data_points[\"cluster\"] = data_points[\"nearest\"].astype(str)\n",
    "\n",
    "        # Re-calculate the centroids\n",
    "        centroids = data_points[[\"cluster\", \"x\", \"y\", \"z\"]].groupby([\"cluster\"]).mean()\n",
    "        centroids = centroids[[\"x\", \"y\", \"z\"]].values.tolist()\n",
    "\n",
    "        counter += 1\n",
    "    print(f\"Number of iterations needed to converge to {k} clusters:\", counter)\n",
    "    \n",
    "    data_points[\"cluster\"] = data_points[\"cluster\"].str.replace(\"\\[|\\]\", \"\", regex=True)\n",
    "    data_points[[\"cx\", \"cy\", \"cz\"]] = data_points[\"cluster\"].str.split(\",\", expand=True)\n",
    "    data_points[[\"cx\", \"cy\", \"cz\"]] = data_points[[\"cx\", \"cy\", \"cz\"]].apply(pd.to_numeric)\n",
    "    return data_points.drop([\"nearest\", \"cluster\"], axis=1)\n",
    "\n",
    "k_means(test_without_outliers, 10)"
   ]
  },
  {
   "cell_type": "markdown",
   "metadata": {},
   "source": [
    "53\t67\t43\t65.0\t58.0\t37.0\t16.155494"
   ]
  },
  {
   "cell_type": "code",
   "execution_count": 2,
   "metadata": {},
   "outputs": [
    {
     "data": {
      "text/plain": [
       "(59.0, 62.5, 40.0)"
      ]
     },
     "execution_count": 2,
     "metadata": {},
     "output_type": "execute_result"
    }
   ],
   "source": [
    "(53 + 65) / 2, (67 + 58) / 2, (43 + 37) / 2"
   ]
  },
  {
   "cell_type": "code",
   "execution_count": null,
   "metadata": {},
   "outputs": [],
   "source": [
    "def hierarchical_agglomerative(data_points, k=10, distance_type = \"min\", distances = None):\n",
    "    # First we define each point belonging to its own \"cluster\"\n",
    "    data_points[\"cx\"] = data_points[\"x\"]\n",
    "    data_points[\"cy\"] = data_points[\"y\"]\n",
    "    data_points[\"cz\"] = data_points[\"z\"]\n",
    "\n",
    "    if distances is None:\n",
    "        distances = initialize_distances(data_points.copy())\n",
    "\n",
    "    # Agglomerate while the number of clusters is greater than k\n",
    "    while len((data_points[[\"cx\", \"cy\", \"cz\"]]).drop_duplicates().index) > k:\n",
    "        # Then we find the set of two \"clusters\" with the shortest distance, considering the distance_type\n",
    "        clusters = (data_points[[\"cx\", \"cy\", \"cz\"]]).drop_duplicates()\n",
    "        for i, each_point in clusters.iterrows():\n",
    "            neighbors = data_points\n",
    "            neighbors = neighbors[(neighbors[\"cx\"] == each_point[\"cx\"]) & \n",
    "                                  (neighbors[\"cy\"] == each_point[\"cy\"]) & \n",
    "                                  (neighbors[\"cz\"] == each_point[\"cz\"])]\n",
    "\n",
    "            inner_distance = []\n",
    "            other_clusters = data_points\n",
    "            other_clusters = other_clusters[~((other_clusters[\"cx\"] == each_point[\"cx\"]) & \n",
    "                                              (other_clusters[\"cy\"] == each_point[\"cy\"]) & \n",
    "                                              (other_clusters[\"cz\"] == each_point[\"cz\"]))]    \n",
    "            other_clusters = (other_clusters[[\"cx\", \"cy\", \"cz\"]]).drop_duplicates()    \n",
    "            for j, each_non_neighbors in other_clusters.iterrows():\n",
    "                distance = (\n",
    "                    distances[\n",
    "                        (\n",
    "                            (\n",
    "                                (distances[\"cx1\"] == each_point[\"cx\"]) &\n",
    "                                (distances[\"cy1\"] == each_point[\"cy\"]) &\n",
    "                                (distances[\"cz1\"] == each_point[\"cz\"]) &\n",
    "                                (distances[\"cx2\"] == each_non_neighbors[\"cx\"]) &\n",
    "                                (distances[\"cy2\"] == each_non_neighbors[\"cy\"]) &\n",
    "                                (distances[\"cz2\"] == each_non_neighbors[\"cz\"])\n",
    "                            ) |\n",
    "                            (\n",
    "                                (distances[\"cx1\"] == each_non_neighbors[\"cx\"]) &\n",
    "                                (distances[\"cy1\"] == each_non_neighbors[\"cy\"]) &\n",
    "                                (distances[\"cz1\"] == each_non_neighbors[\"cz\"]) &\n",
    "                                (distances[\"cx2\"] == each_point[\"cx\"]) &\n",
    "                                (distances[\"cy2\"] == each_point[\"cy\"]) &\n",
    "                                (distances[\"cz2\"] == each_point[\"cz\"])\n",
    "                            )                       \n",
    "                        )   \n",
    "                    ]\n",
    "                )[\"distance\"]\n",
    "                if len(distance) == 0:\n",
    "                    non_neighbors = data_points\n",
    "                    non_neighbors = non_neighbors[(non_neighbors[\"cx\"] == each_non_neighbors[\"cx\"]) & \n",
    "                                                  (non_neighbors[\"cy\"] == each_non_neighbors[\"cy\"]) & \n",
    "                                                  (non_neighbors[\"cz\"] == each_non_neighbors[\"cz\"])]\n",
    "                    non_neighbors = non_neighbors[[\"x\", \"y\", \"z\"]]        \n",
    "                    cluster_distance = find_cluster_distance(\n",
    "                        neighbors[[\"x\", \"y\", \"z\"]].values.tolist(), non_neighbors.values.tolist(), type = distance_type)\n",
    "                \n",
    "                    #Save distances to do not have to re-calculate\n",
    "                    distances = distances.append({\n",
    "                        \"cx1\": each_point[\"cx\"],\n",
    "                        \"cy1\": each_point[\"cy\"],\n",
    "                        \"cz1\": each_point[\"cz\"],\n",
    "                        \"cx2\": each_non_neighbors[\"cx\"],\n",
    "                        \"cy2\": each_non_neighbors[\"cy\"],\n",
    "                        \"cz2\": each_non_neighbors[\"cz\"],\n",
    "                        \"distance\": cluster_distance\n",
    "\n",
    "                    }, ignore_index = True)\n",
    "                else:\n",
    "                    cluster_distance = distance.values[0]                 \n",
    "        \n",
    "        shortest_distance_index = distances.sort_values(by=[\"distance\"]).index[0]\n",
    "        \n",
    "        to_merge = data_points[((data_points[\"cx\"] == distances.at[shortest_distance_index, \"cx1\"]) & \n",
    "                          (data_points[\"cy\"] == distances.at[shortest_distance_index, \"cy1\"]) & \n",
    "                          (data_points[\"cz\"] == distances.at[shortest_distance_index, \"cz1\"])) |\n",
    "                          ((data_points[\"cx\"] == distances.at[shortest_distance_index, \"cx2\"]) & \n",
    "                          (data_points[\"cy\"] == distances.at[shortest_distance_index, \"cy2\"]) & \n",
    "                          (data_points[\"cz\"] == distances.at[shortest_distance_index, \"cz2\"]))\n",
    "                         ]\n",
    "        \n",
    "        distances = distances[~((distances[\"cx1\"].isin(to_merge[\"cx\"])) & \n",
    "                          (distances[\"cy1\"].isin(to_merge[\"cy\"])) & \n",
    "                          (distances[\"cz1\"].isin(to_merge[\"cz\"]))) &\n",
    "                          ((distances[\"cx2\"].isin(to_merge[\"cx\"])) & \n",
    "                          (distances[\"cy2\"].isin(to_merge[\"cy\"])) & \n",
    "                          (distances[\"cz2\"].isin(to_merge[\"cz\"])))\n",
    "                        ]\n",
    "        \n",
    "        data_points.loc[to_merge.index, [\"cx\"]] = to_merge[\"x\"].mean()\n",
    "        data_points.loc[to_merge.index, [\"cy\"]] = to_merge[\"y\"].mean()\n",
    "        data_points.loc[to_merge.index, [\"cz\"]] = to_merge[\"z\"].mean()\n",
    "        \n",
    "        print(\"Agglomerating to\", len((data_points[[\"cx\", \"cy\", \"cz\"]]).drop_duplicates().index), \"clusters\")\n",
    "\n",
    "    return data_points\n",
    "\n",
    "k = 2\n",
    "# test_hierarchical = remove_outliers(test, d_distance = 50, p_fraction = 0.15)\n",
    "clusterized_hierarchical = hierarchical_agglomerative(test_hierarchical.head(10), k, distance_type = \"min\")\n",
    "clusterized_hierarchical"
   ]
  }
 ],
 "metadata": {
  "kernelspec": {
   "display_name": "Python 3 (ipykernel)",
   "language": "python",
   "name": "python3"
  },
  "language_info": {
   "codemirror_mode": {
    "name": "ipython",
    "version": 3
   },
   "file_extension": ".py",
   "mimetype": "text/x-python",
   "name": "python",
   "nbconvert_exporter": "python",
   "pygments_lexer": "ipython3",
   "version": "3.9.12"
  }
 },
 "nbformat": 4,
 "nbformat_minor": 4
}
